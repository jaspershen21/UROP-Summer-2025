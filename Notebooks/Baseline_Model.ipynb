{
 "cells": [
  {
   "cell_type": "markdown",
   "id": "5fdc8d2c",
   "metadata": {},
   "source": [
    "# Initial Imports"
   ]
  },
  {
   "cell_type": "code",
   "execution_count": 14,
   "id": "fcf5f17f",
   "metadata": {},
   "outputs": [],
   "source": [
    "import pprint\n",
    "import pickle\n",
    "import pandas as pd\n",
    "import numpy as np\n",
    "import matplotlib.pyplot as plt\n",
    "from sklearn.preprocessing import StandardScaler\n",
    "from sklearn.model_selection import cross_validate, KFold\n",
    "from sklearn.pipeline import Pipeline\n",
    "from sklearn.linear_model import LogisticRegression"
   ]
  },
  {
   "cell_type": "markdown",
   "id": "d7b2943b",
   "metadata": {},
   "source": [
    "# Importing the Dataset"
   ]
  },
  {
   "cell_type": "code",
   "execution_count": 2,
   "id": "90768618",
   "metadata": {},
   "outputs": [],
   "source": [
    "# Raw SA Single Observation Data\n",
    "df = pd.read_csv(\"./../Datasets/kieranFeatures_1-30_14-Nov-2024_rawSA.csv\")"
   ]
  },
  {
   "cell_type": "code",
   "execution_count": null,
   "id": "5f5d9b76",
   "metadata": {},
   "outputs": [],
   "source": [
    "# Adjusted SA Single Observation Data\n",
    "df = pd.read_csv(\"./../Datasets/kieranFeatures_1-31_24-Jan-2025.csv\")"
   ]
  },
  {
   "cell_type": "code",
   "execution_count": null,
   "id": "53568d78",
   "metadata": {},
   "outputs": [],
   "source": [
    "# Raw SA Average of 3\n",
    "df = pd.read_csv(\"./../Datasets/kieranFeatures_1-31_24-Jan-2025_avgof3_rawSA.csv\")"
   ]
  },
  {
   "cell_type": "code",
   "execution_count": null,
   "id": "435e41c3",
   "metadata": {},
   "outputs": [],
   "source": [
    "# Adjusted SA Average of 3\n",
    "df = pd.read_csv(\"./../Datasets/kieranFeatures_1-31_24-Jan-2025_avgof3.csv\")"
   ]
  },
  {
   "cell_type": "markdown",
   "id": "fe936c7a",
   "metadata": {},
   "source": [
    "# Preprocessing"
   ]
  },
  {
   "cell_type": "code",
   "execution_count": 3,
   "id": "a256f51b",
   "metadata": {},
   "outputs": [],
   "source": [
    "# Imput missing values\n",
    "df = df.replace([np.inf, -np.inf], np.nan)\n",
    "df = df.fillna(df.mean())\n",
    "\n",
    "# Establish binary columns\n",
    "df = df.assign(\n",
    "    Lv_1_Lo = lambda x: (x[\"SA1\"] < np.median(x[\"SA1\"])),\n",
    "    Lv_2_Lo = lambda x: (x[\"SA2\"] < np.median(x[\"SA2\"])),\n",
    "    Lv_3_Lo = lambda x: (x[\"SA3\"] < np.median(x[\"SA3\"])),\n",
    "    Tot_Lo = lambda x: (x[\"SAtotal\"] < np.median(x[\"SAtotal\"]))\n",
    ")\n",
    "\n",
    "# Decompose dataset\n",
    "ids = df[\"ID\"]\n",
    "trial_nums = df[\"trialNum\"]\n",
    "X = df.drop(columns = [\"ID\", \"trialNum\", \"SA1\", \"SA2\", \"SA3\", \"SAtotal\", \"Lv_1_Lo\", \"Lv_2_Lo\", \"Lv_3_Lo\", \"Tot_Lo\"])\n",
    "y = df[[\"Lv_1_Lo\", \"Lv_2_Lo\", \"Lv_3_Lo\", \"Tot_Lo\"]]\n",
    "y_shuffled = y.sample(frac = 1, random_state = 42).reset_index(drop = True)\n",
    "\n",
    "# Initialize data structure for results\n",
    "dataset_types = [\"Actual\", \"Shuffled\"]\n",
    "levels = [\"Lv_1_Lo\", \"Lv_2_Lo\", \"Lv_3_Lo\", \"Tot_Lo\"]"
   ]
  },
  {
   "cell_type": "markdown",
   "id": "c261fc2c",
   "metadata": {},
   "source": [
    "# Training"
   ]
  },
  {
   "cell_type": "code",
   "execution_count": 6,
   "id": "dac068ab",
   "metadata": {},
   "outputs": [],
   "source": [
    "def get_model_cv_scores(X, y, level):\n",
    "    \"\"\"\n",
    "        Function to get the cross-validated F1, accuracy, ROC-AUC, and models for a given SA level.\n",
    "    \"\"\"\n",
    "\n",
    "    X_CV = X.values\n",
    "    y_CV = y[level].values\n",
    "\n",
    "    scaler = StandardScaler()\n",
    "    model = LogisticRegression(penalty = None, max_iter = 10000, random_state = 42)\n",
    "    model_pipeline = Pipeline([\n",
    "        (\"scaler\", scaler),\n",
    "        (\"classifier\", model)\n",
    "    ])\n",
    "    cv_strategy = KFold(n_splits = 10, shuffle = True, random_state = 42)\n",
    "\n",
    "    return cross_validate(model_pipeline, X_CV, y_CV, cv = cv_strategy, n_jobs = -1, scoring = [\"f1\", \"accuracy\", \"roc_auc\"], return_estimator = True)"
   ]
  },
  {
   "cell_type": "code",
   "execution_count": null,
   "id": "81542b6c",
   "metadata": {},
   "outputs": [],
   "source": [
    "data = {}\n",
    "\n",
    "for dataset_type in [\"Actual\", \"Shuffled\"]:\n",
    "    data[dataset_type] = {}\n",
    "\n",
    "    for level in [\"Lv_1_Lo\", \"Lv_2_Lo\", \"Lv_3_Lo\", \"Tot_Lo\"]:\n",
    "        data[dataset_type][level] = get_model_cv_scores(X, y if dataset_type == \"Actual\" else y_shuffled, level)"
   ]
  },
  {
   "cell_type": "markdown",
   "id": "553c9633",
   "metadata": {},
   "source": [
    "## Save and Load Data"
   ]
  },
  {
   "cell_type": "code",
   "execution_count": 15,
   "id": "76c9c3c9",
   "metadata": {},
   "outputs": [],
   "source": [
    "with open(\"./../Pickle Files/Baseline_Results.pkl\", \"wb\") as f:\n",
    "    pickle.dump(data, f)"
   ]
  },
  {
   "cell_type": "code",
   "execution_count": null,
   "id": "3e13c98a",
   "metadata": {},
   "outputs": [],
   "source": [
    "with open(\"./../Pickle Files/Baseline_Results.pkl\", \"rb\") as f:\n",
    "    data = pickle.load(f)"
   ]
  }
 ],
 "metadata": {
  "kernelspec": {
   "display_name": "UROP",
   "language": "python",
   "name": "python3"
  },
  "language_info": {
   "codemirror_mode": {
    "name": "ipython",
    "version": 3
   },
   "file_extension": ".py",
   "mimetype": "text/x-python",
   "name": "python",
   "nbconvert_exporter": "python",
   "pygments_lexer": "ipython3",
   "version": "3.9.23"
  }
 },
 "nbformat": 4,
 "nbformat_minor": 5
}
